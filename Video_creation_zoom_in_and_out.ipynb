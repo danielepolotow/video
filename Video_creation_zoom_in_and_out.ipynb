{
  "nbformat": 4,
  "nbformat_minor": 0,
  "metadata": {
    "colab": {
      "provenance": []
    },
    "kernelspec": {
      "name": "python3",
      "display_name": "Python 3"
    },
    "language_info": {
      "name": "python"
    }
  },
  "cells": [
    {
      "cell_type": "code",
      "execution_count": 30,
      "metadata": {
        "id": "MdRcRmqNVZf6"
      },
      "outputs": [],
      "source": [
        "from PIL import Image, ImageOps\n",
        "import os\n",
        "import shutil\n",
        "from moviepy.editor import (\n",
        "    ImageSequenceClip,\n",
        "    concatenate_videoclips,\n",
        "    AudioFileClip,\n",
        "    vfx\n",
        ")"
      ]
    },
    {
      "cell_type": "markdown",
      "source": [
        "## Upload the images and music and organize files"
      ],
      "metadata": {
        "id": "vJt6YiYqXp0C"
      }
    },
    {
      "cell_type": "code",
      "source": [
        "from google.colab import files\n",
        "uploaded = files.upload()"
      ],
      "metadata": {
        "colab": {
          "base_uri": "https://localhost:8080/",
          "height": 38
        },
        "id": "JX-5z6UTXjur",
        "outputId": "72c34b98-917c-4d04-be16-057e24de16b0"
      },
      "execution_count": 13,
      "outputs": [
        {
          "output_type": "display_data",
          "data": {
            "text/plain": [
              "<IPython.core.display.HTML object>"
            ],
            "text/html": [
              "\n",
              "     <input type=\"file\" id=\"files-b4f48b8d-2491-4b74-9065-2f0b608c3e06\" name=\"files[]\" multiple disabled\n",
              "        style=\"border:none\" />\n",
              "     <output id=\"result-b4f48b8d-2491-4b74-9065-2f0b608c3e06\">\n",
              "      Upload widget is only available when the cell has been executed in the\n",
              "      current browser session. Please rerun this cell to enable.\n",
              "      </output>\n",
              "      <script>// Copyright 2017 Google LLC\n",
              "//\n",
              "// Licensed under the Apache License, Version 2.0 (the \"License\");\n",
              "// you may not use this file except in compliance with the License.\n",
              "// You may obtain a copy of the License at\n",
              "//\n",
              "//      http://www.apache.org/licenses/LICENSE-2.0\n",
              "//\n",
              "// Unless required by applicable law or agreed to in writing, software\n",
              "// distributed under the License is distributed on an \"AS IS\" BASIS,\n",
              "// WITHOUT WARRANTIES OR CONDITIONS OF ANY KIND, either express or implied.\n",
              "// See the License for the specific language governing permissions and\n",
              "// limitations under the License.\n",
              "\n",
              "/**\n",
              " * @fileoverview Helpers for google.colab Python module.\n",
              " */\n",
              "(function(scope) {\n",
              "function span(text, styleAttributes = {}) {\n",
              "  const element = document.createElement('span');\n",
              "  element.textContent = text;\n",
              "  for (const key of Object.keys(styleAttributes)) {\n",
              "    element.style[key] = styleAttributes[key];\n",
              "  }\n",
              "  return element;\n",
              "}\n",
              "\n",
              "// Max number of bytes which will be uploaded at a time.\n",
              "const MAX_PAYLOAD_SIZE = 100 * 1024;\n",
              "\n",
              "function _uploadFiles(inputId, outputId) {\n",
              "  const steps = uploadFilesStep(inputId, outputId);\n",
              "  const outputElement = document.getElementById(outputId);\n",
              "  // Cache steps on the outputElement to make it available for the next call\n",
              "  // to uploadFilesContinue from Python.\n",
              "  outputElement.steps = steps;\n",
              "\n",
              "  return _uploadFilesContinue(outputId);\n",
              "}\n",
              "\n",
              "// This is roughly an async generator (not supported in the browser yet),\n",
              "// where there are multiple asynchronous steps and the Python side is going\n",
              "// to poll for completion of each step.\n",
              "// This uses a Promise to block the python side on completion of each step,\n",
              "// then passes the result of the previous step as the input to the next step.\n",
              "function _uploadFilesContinue(outputId) {\n",
              "  const outputElement = document.getElementById(outputId);\n",
              "  const steps = outputElement.steps;\n",
              "\n",
              "  const next = steps.next(outputElement.lastPromiseValue);\n",
              "  return Promise.resolve(next.value.promise).then((value) => {\n",
              "    // Cache the last promise value to make it available to the next\n",
              "    // step of the generator.\n",
              "    outputElement.lastPromiseValue = value;\n",
              "    return next.value.response;\n",
              "  });\n",
              "}\n",
              "\n",
              "/**\n",
              " * Generator function which is called between each async step of the upload\n",
              " * process.\n",
              " * @param {string} inputId Element ID of the input file picker element.\n",
              " * @param {string} outputId Element ID of the output display.\n",
              " * @return {!Iterable<!Object>} Iterable of next steps.\n",
              " */\n",
              "function* uploadFilesStep(inputId, outputId) {\n",
              "  const inputElement = document.getElementById(inputId);\n",
              "  inputElement.disabled = false;\n",
              "\n",
              "  const outputElement = document.getElementById(outputId);\n",
              "  outputElement.innerHTML = '';\n",
              "\n",
              "  const pickedPromise = new Promise((resolve) => {\n",
              "    inputElement.addEventListener('change', (e) => {\n",
              "      resolve(e.target.files);\n",
              "    });\n",
              "  });\n",
              "\n",
              "  const cancel = document.createElement('button');\n",
              "  inputElement.parentElement.appendChild(cancel);\n",
              "  cancel.textContent = 'Cancel upload';\n",
              "  const cancelPromise = new Promise((resolve) => {\n",
              "    cancel.onclick = () => {\n",
              "      resolve(null);\n",
              "    };\n",
              "  });\n",
              "\n",
              "  // Wait for the user to pick the files.\n",
              "  const files = yield {\n",
              "    promise: Promise.race([pickedPromise, cancelPromise]),\n",
              "    response: {\n",
              "      action: 'starting',\n",
              "    }\n",
              "  };\n",
              "\n",
              "  cancel.remove();\n",
              "\n",
              "  // Disable the input element since further picks are not allowed.\n",
              "  inputElement.disabled = true;\n",
              "\n",
              "  if (!files) {\n",
              "    return {\n",
              "      response: {\n",
              "        action: 'complete',\n",
              "      }\n",
              "    };\n",
              "  }\n",
              "\n",
              "  for (const file of files) {\n",
              "    const li = document.createElement('li');\n",
              "    li.append(span(file.name, {fontWeight: 'bold'}));\n",
              "    li.append(span(\n",
              "        `(${file.type || 'n/a'}) - ${file.size} bytes, ` +\n",
              "        `last modified: ${\n",
              "            file.lastModifiedDate ? file.lastModifiedDate.toLocaleDateString() :\n",
              "                                    'n/a'} - `));\n",
              "    const percent = span('0% done');\n",
              "    li.appendChild(percent);\n",
              "\n",
              "    outputElement.appendChild(li);\n",
              "\n",
              "    const fileDataPromise = new Promise((resolve) => {\n",
              "      const reader = new FileReader();\n",
              "      reader.onload = (e) => {\n",
              "        resolve(e.target.result);\n",
              "      };\n",
              "      reader.readAsArrayBuffer(file);\n",
              "    });\n",
              "    // Wait for the data to be ready.\n",
              "    let fileData = yield {\n",
              "      promise: fileDataPromise,\n",
              "      response: {\n",
              "        action: 'continue',\n",
              "      }\n",
              "    };\n",
              "\n",
              "    // Use a chunked sending to avoid message size limits. See b/62115660.\n",
              "    let position = 0;\n",
              "    do {\n",
              "      const length = Math.min(fileData.byteLength - position, MAX_PAYLOAD_SIZE);\n",
              "      const chunk = new Uint8Array(fileData, position, length);\n",
              "      position += length;\n",
              "\n",
              "      const base64 = btoa(String.fromCharCode.apply(null, chunk));\n",
              "      yield {\n",
              "        response: {\n",
              "          action: 'append',\n",
              "          file: file.name,\n",
              "          data: base64,\n",
              "        },\n",
              "      };\n",
              "\n",
              "      let percentDone = fileData.byteLength === 0 ?\n",
              "          100 :\n",
              "          Math.round((position / fileData.byteLength) * 100);\n",
              "      percent.textContent = `${percentDone}% done`;\n",
              "\n",
              "    } while (position < fileData.byteLength);\n",
              "  }\n",
              "\n",
              "  // All done.\n",
              "  yield {\n",
              "    response: {\n",
              "      action: 'complete',\n",
              "    }\n",
              "  };\n",
              "}\n",
              "\n",
              "scope.google = scope.google || {};\n",
              "scope.google.colab = scope.google.colab || {};\n",
              "scope.google.colab._files = {\n",
              "  _uploadFiles,\n",
              "  _uploadFilesContinue,\n",
              "};\n",
              "})(self);\n",
              "</script> "
            ]
          },
          "metadata": {}
        }
      ]
    },
    {
      "cell_type": "code",
      "source": [
        "import os\n",
        "import shutil\n",
        "\n",
        "# Create 'images' folder\n",
        "os.makedirs(\"images\", exist_ok=True)\n",
        "\n",
        "# Move uploaded image files into 'images' folder\n",
        "for filename in uploaded:\n",
        "    if filename.lower().endswith(('.jpg', '.jpeg', '.png')):\n",
        "        shutil.move(filename, os.path.join(\"images\", filename))\n"
      ],
      "metadata": {
        "id": "iNFUhRkwXj0y"
      },
      "execution_count": 14,
      "outputs": []
    },
    {
      "cell_type": "code",
      "source": [
        "music_file = None\n",
        "for filename in uploaded:\n",
        "    if filename.lower().endswith('.mp3'):\n",
        "        music_file = filename\n",
        "        break"
      ],
      "metadata": {
        "id": "gPTVakaBXwJL"
      },
      "execution_count": 15,
      "outputs": []
    },
    {
      "cell_type": "markdown",
      "source": [
        "## Script"
      ],
      "metadata": {
        "id": "oov1mToRXzm6"
      }
    },
    {
      "cell_type": "code",
      "source": [
        "def resize_and_pad(img, target_size):\n",
        "    \"\"\"Resize and pad image to target size while maintaining aspect ratio.\"\"\"\n",
        "    img = ImageOps.contain(img, target_size)\n",
        "    background = Image.new(\"RGB\", target_size, (0, 0, 0))\n",
        "    offset = ((target_size[0] - img.size[0]) // 2, (target_size[1] - img.size[1]) // 2)\n",
        "    background.paste(img, offset)\n",
        "    return background\n",
        "\n",
        "def create_zoom_frames(image_path, output_folder, zoom_start, zoom_end, steps=150, target_size=(1920, 1080)):\n",
        "    os.makedirs(output_folder, exist_ok=True)\n",
        "    base_img = Image.open(image_path)\n",
        "    base_img = resize_and_pad(base_img, target_size)\n",
        "    w, h = base_img.size\n",
        "\n",
        "    for i in range(steps):\n",
        "        zoom = zoom_start + (zoom_end - zoom_start) * (i / (steps - 1))\n",
        "\n",
        "        # Subpixel cropping box\n",
        "        crop_w = w / zoom\n",
        "        crop_h = h / zoom\n",
        "        left = (w - crop_w) / 2\n",
        "        top = (h - crop_h) / 2\n",
        "        right = left + crop_w\n",
        "        bottom = top + crop_h\n",
        "\n",
        "        # Crop and resize\n",
        "        cropped = base_img.crop((left, top, right, bottom)).resize((w, h), Image.LANCZOS)\n",
        "        cropped.save(os.path.join(output_folder, f\"frame_{i:03d}.png\"))\n",
        "\n",
        "\n",
        "def generate_zoom_clip(image_path, mode, duration_seconds, fps, temp_folder, target_size):\n",
        "    steps = duration_seconds * fps\n",
        "    zoom_start, zoom_end = (1.0, 1.1) if mode == \"in\" else (1.1, 1.0)\n",
        "\n",
        "    create_zoom_frames(image_path, temp_folder, zoom_start, zoom_end, steps, target_size)\n",
        "\n",
        "    frame_files = sorted([\n",
        "        os.path.join(temp_folder, f)\n",
        "        for f in os.listdir(temp_folder)\n",
        "        if f.endswith(\".png\")\n",
        "    ])\n",
        "    clip = ImageSequenceClip(frame_files, fps=fps).set_duration(duration_seconds)\n",
        "    clip = clip.fx(vfx.fadein, 1).fx(vfx.fadeout, 1)\n",
        "    return clip  # Don't delete the folder yet\n",
        "\n",
        "\n",
        "def create_combined_zoom_video_from_folder(\n",
        "    image_folder,\n",
        "    output_video=\"zoom_sequence.mp4\",\n",
        "    music_path=None,\n",
        "    duration_seconds=5,\n",
        "    fps=30,\n",
        "    platform=\"youtube\"\n",
        "):\n",
        "    # Set target size based on platform\n",
        "    if platform == \"youtube\":\n",
        "        target_size = (1920, 1080)\n",
        "    elif platform == \"tiktok\":\n",
        "        target_size = (1080, 1920)\n",
        "    else:\n",
        "        raise ValueError(\"Platform must be 'youtube' or 'tiktok'\")\n",
        "\n",
        "    image_paths = sorted([\n",
        "        os.path.join(image_folder, f)\n",
        "        for f in os.listdir(image_folder)\n",
        "        if f.lower().endswith((\".jpg\", \".jpeg\", \".png\"))\n",
        "    ])\n",
        "\n",
        "    if not image_paths:\n",
        "        raise ValueError(\"No images found in the folder.\")\n",
        "\n",
        "    clips = []\n",
        "    for idx, image_path in enumerate(image_paths):\n",
        "        mode = \"in\" if idx % 2 == 0 else \"out\"\n",
        "        print(f\"Processing image {idx+1}/{len(image_paths)} with zoom {mode}\")\n",
        "        clip = generate_zoom_clip(\n",
        "            image_path=image_path,\n",
        "            mode=mode,\n",
        "            duration_seconds=duration_seconds,\n",
        "            fps=fps,\n",
        "            temp_folder=f\"temp_frames_{idx}\",\n",
        "            target_size=target_size\n",
        "        )\n",
        "        clips.append(clip)\n",
        "\n",
        "    final_clip = concatenate_videoclips(clips, method=\"compose\")\n",
        "\n",
        "    if music_path and os.path.exists(music_path):\n",
        "        audio = AudioFileClip(music_path)\n",
        "        video_duration = final_clip.duration\n",
        "\n",
        "        if audio.duration < video_duration:\n",
        "            loops = int(video_duration // audio.duration) + 1\n",
        "            audio = concatenate_videoclips([audio] * loops).subclip(0, video_duration)\n",
        "        else:\n",
        "            audio = audio.subclip(0, video_duration)\n",
        "\n",
        "        audio = audio.audio_fadeout(2)\n",
        "        final_clip = final_clip.set_audio(audio)\n",
        "\n",
        "    final_clip.write_videofile(\n",
        "    output_video,\n",
        "    codec=\"libx264\",\n",
        "    audio=bool(music_path),\n",
        "    audio_codec=\"aac\"\n",
        ")\n"
      ],
      "metadata": {
        "id": "wQwO7cMQWnLM"
      },
      "execution_count": 31,
      "outputs": []
    },
    {
      "cell_type": "markdown",
      "source": [
        "## Run the script"
      ],
      "metadata": {
        "id": "D1OT_9bYYNEs"
      }
    },
    {
      "cell_type": "code",
      "source": [
        "# run in colab\n",
        "create_combined_zoom_video_from_folder(\n",
        "    image_folder=\"images\",\n",
        "    output_video=\"zoom_sequence.mp4\",\n",
        "    music_path=\"background_music.mp3\",    # Set to None if no music\n",
        "    duration_seconds=5,\n",
        "    fps=30,\n",
        "    platform=\"youtube\"        # or \"tiktok\"\n",
        ")"
      ],
      "metadata": {
        "colab": {
          "base_uri": "https://localhost:8080/"
        },
        "id": "e2vLgdHDYB9S",
        "outputId": "408599f7-ae5a-40a1-8cf3-c182cf291151"
      },
      "execution_count": 32,
      "outputs": [
        {
          "output_type": "stream",
          "name": "stdout",
          "text": [
            "Processing image 1/4 with zoom in\n",
            "Processing image 2/4 with zoom out\n",
            "Processing image 3/4 with zoom in\n",
            "Processing image 4/4 with zoom out\n",
            "Moviepy - Building video zoom_sequence.mp4.\n",
            "MoviePy - Writing audio in zoom_sequenceTEMP_MPY_wvf_snd.mp4\n"
          ]
        },
        {
          "output_type": "stream",
          "name": "stderr",
          "text": []
        },
        {
          "output_type": "stream",
          "name": "stdout",
          "text": [
            "MoviePy - Done.\n",
            "Moviepy - Writing video zoom_sequence.mp4\n",
            "\n"
          ]
        },
        {
          "output_type": "stream",
          "name": "stderr",
          "text": []
        },
        {
          "output_type": "stream",
          "name": "stdout",
          "text": [
            "Moviepy - Done !\n",
            "Moviepy - video ready zoom_sequence.mp4\n"
          ]
        }
      ]
    },
    {
      "cell_type": "markdown",
      "source": [
        "## Download"
      ],
      "metadata": {
        "id": "AFNvlgEGkkB9"
      }
    },
    {
      "cell_type": "code",
      "source": [
        "from google.colab import files\n",
        "files.download(\"zoom_sequence.mp4\")\n"
      ],
      "metadata": {
        "colab": {
          "base_uri": "https://localhost:8080/",
          "height": 17
        },
        "id": "QCSbaYdfYPR6",
        "outputId": "0d766ec5-8e92-47aa-b024-0be374892fef"
      },
      "execution_count": 33,
      "outputs": [
        {
          "output_type": "display_data",
          "data": {
            "text/plain": [
              "<IPython.core.display.Javascript object>"
            ],
            "application/javascript": [
              "\n",
              "    async function download(id, filename, size) {\n",
              "      if (!google.colab.kernel.accessAllowed) {\n",
              "        return;\n",
              "      }\n",
              "      const div = document.createElement('div');\n",
              "      const label = document.createElement('label');\n",
              "      label.textContent = `Downloading \"${filename}\": `;\n",
              "      div.appendChild(label);\n",
              "      const progress = document.createElement('progress');\n",
              "      progress.max = size;\n",
              "      div.appendChild(progress);\n",
              "      document.body.appendChild(div);\n",
              "\n",
              "      const buffers = [];\n",
              "      let downloaded = 0;\n",
              "\n",
              "      const channel = await google.colab.kernel.comms.open(id);\n",
              "      // Send a message to notify the kernel that we're ready.\n",
              "      channel.send({})\n",
              "\n",
              "      for await (const message of channel.messages) {\n",
              "        // Send a message to notify the kernel that we're ready.\n",
              "        channel.send({})\n",
              "        if (message.buffers) {\n",
              "          for (const buffer of message.buffers) {\n",
              "            buffers.push(buffer);\n",
              "            downloaded += buffer.byteLength;\n",
              "            progress.value = downloaded;\n",
              "          }\n",
              "        }\n",
              "      }\n",
              "      const blob = new Blob(buffers, {type: 'application/binary'});\n",
              "      const a = document.createElement('a');\n",
              "      a.href = window.URL.createObjectURL(blob);\n",
              "      a.download = filename;\n",
              "      div.appendChild(a);\n",
              "      a.click();\n",
              "      div.remove();\n",
              "    }\n",
              "  "
            ]
          },
          "metadata": {}
        },
        {
          "output_type": "display_data",
          "data": {
            "text/plain": [
              "<IPython.core.display.Javascript object>"
            ],
            "application/javascript": [
              "download(\"download_a66a6920-8a99-425e-ae68-10c8cfd0e096\", \"zoom_sequence.mp4\", 1596723)"
            ]
          },
          "metadata": {}
        }
      ]
    },
    {
      "cell_type": "code",
      "source": [
        "# === USAGE ===\n",
        "create_combined_zoom_video_from_folder(\n",
        "    image_folder=\"images\",                 # Folder with your images\n",
        "    output_video=\"zoom_sequence.mp4\",      # Output video file\n",
        "    music_path=\"background.mp3\",           # Optional music file; None if no music\n",
        "    duration_seconds=5,                    # Duration per image\n",
        "    fps=30,                                # Frames per second\n",
        "    platform=\"youtube\"                     # 'youtube' (1920x1080) or 'tiktok' (1080x1920)\n",
        ")"
      ],
      "metadata": {
        "id": "ilJte77pW0ps"
      },
      "execution_count": null,
      "outputs": []
    },
    {
      "cell_type": "markdown",
      "source": [
        "## Clean up"
      ],
      "metadata": {
        "id": "Vk8WIkZ7kdP-"
      }
    },
    {
      "cell_type": "code",
      "source": [
        "def cleanup_temp_folders(prefix=\"temp_frames_\"):\n",
        "    import shutil\n",
        "    import os\n",
        "    for folder in os.listdir():\n",
        "        if folder.startswith(prefix) and os.path.isdir(folder):\n",
        "            print(f\"Deleting folder: {folder}\")\n",
        "            shutil.rmtree(folder)\n",
        "\n",
        "    final_clip.write_videofile(output_video, codec=\"libx264\", audio=bool(music_path))\n",
        "\n",
        "    # 🧹 Cleanup temp frame folders after rendering\n",
        "    cleanup_temp_folders()\n"
      ],
      "metadata": {
        "id": "JDxkB_2SkgKM"
      },
      "execution_count": 11,
      "outputs": []
    },
    {
      "cell_type": "code",
      "source": [],
      "metadata": {
        "id": "b_2niOPutzLy"
      },
      "execution_count": null,
      "outputs": []
    }
  ]
}